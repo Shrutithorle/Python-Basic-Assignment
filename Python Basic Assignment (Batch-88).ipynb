{
 "cells": [
  {
   "cell_type": "markdown",
   "id": "816500d3",
   "metadata": {},
   "source": [
    "# Python Basic Assignment"
   ]
  },
  {
   "cell_type": "code",
   "execution_count": 14,
   "id": "46dc2b0f",
   "metadata": {},
   "outputs": [
    {
     "name": "stdout",
     "output_type": "stream",
     "text": [
      "Welcome to python\n"
     ]
    }
   ],
   "source": [
    "##1st\n",
    "s=\"Welcome to python\"\n",
    "print(s)"
   ]
  },
  {
   "cell_type": "code",
   "execution_count": 2,
   "id": "e5778347",
   "metadata": {},
   "outputs": [
    {
     "name": "stdout",
     "output_type": "stream",
     "text": [
      "Shruti Thorle\n"
     ]
    }
   ],
   "source": [
    "##2nd\n",
    "Name='Shruti Thorle'\n",
    "print(Name)"
   ]
  },
  {
   "cell_type": "code",
   "execution_count": 3,
   "id": "faf87b65",
   "metadata": {},
   "outputs": [
    {
     "name": "stdout",
     "output_type": "stream",
     "text": [
      "Topmentor batch-88\n"
     ]
    }
   ],
   "source": [
    "Name='Topmentor batch-88'\n",
    "print(Name)"
   ]
  },
  {
   "cell_type": "code",
   "execution_count": 4,
   "id": "3aff6810",
   "metadata": {},
   "outputs": [],
   "source": [
    "##3rd \n",
    "name='Dino'"
   ]
  },
  {
   "cell_type": "code",
   "execution_count": 6,
   "id": "02e6e46c",
   "metadata": {},
   "outputs": [
    {
     "name": "stdout",
     "output_type": "stream",
     "text": [
      "Hello Dino,would you like to learn some Python today?\n"
     ]
    }
   ],
   "source": [
    "message='Hello Dino,would you like to learn some Python today?'\n",
    "print(message)"
   ]
  },
  {
   "cell_type": "code",
   "execution_count": 7,
   "id": "a66e569e",
   "metadata": {},
   "outputs": [],
   "source": [
    "##4th\n",
    "quote=\"The way of success is the way of continuous pursuit of knowledge\"\n",
    "author=\"Napoleon Hill\"\n"
   ]
  },
  {
   "cell_type": "code",
   "execution_count": 23,
   "id": "6c33189e",
   "metadata": {},
   "outputs": [
    {
     "name": "stdout",
     "output_type": "stream",
     "text": [
      "Napoleon Hill-\"The way of success is the way of continuous pursuit of knowledge\"\n"
     ]
    }
   ],
   "source": [
    "\n",
    "print(f'{author}-\"{quote}\"')"
   ]
  },
  {
   "cell_type": "code",
   "execution_count": 2,
   "id": "f944d5ea",
   "metadata": {},
   "outputs": [
    {
     "name": "stdout",
     "output_type": "stream",
     "text": [
      "Mahatma Gandhi,\"the_Father_of_the_Nation_in_India.\"\n"
     ]
    }
   ],
   "source": [
    "##5th\n",
    "famous_person = \"Mahatma Gandhi\"\n",
    "message = famous_person + ',\"the_Father_of_the_Nation_in_India.\"'\n",
    "print(message) \n"
   ]
  },
  {
   "cell_type": "code",
   "execution_count": 31,
   "id": "f5218108",
   "metadata": {},
   "outputs": [
    {
     "name": "stdout",
     "output_type": "stream",
     "text": [
      "8\n",
      "8\n",
      "8\n",
      "8.0\n"
     ]
    }
   ],
   "source": [
    "##6th\n",
    "print(5 + 3)\n",
    "print(10 - 2)\n",
    "print(4 * 2) \n",
    "print(16 / 2) "
   ]
  },
  {
   "cell_type": "code",
   "execution_count": 5,
   "id": "895bba9a",
   "metadata": {},
   "outputs": [
    {
     "name": "stdout",
     "output_type": "stream",
     "text": [
      "My favorite number is 7\n"
     ]
    }
   ],
   "source": [
    "##7th\n",
    "favorite_number = 7\n",
    "message =\"My favorite number is \"+ str(favorite_number)\n",
    "print(message)\n"
   ]
  },
  {
   "cell_type": "code",
   "execution_count": 9,
   "id": "62be8964",
   "metadata": {},
   "outputs": [
    {
     "name": "stdout",
     "output_type": "stream",
     "text": [
      "Mahatma Gandhi,\"the_Father_of_the_Nation_in_India.\"\n"
     ]
    }
   ],
   "source": [
    "##8th \n",
    "##program1\n",
    "##Shruti_Thorle\n",
    "##date-2023-10-27\n",
    "##to print the quote and its author\n",
    "famous_person = \"Mahatma Gandhi\"\n",
    "message = famous_person + ',\"the_Father_of_the_Nation_in_India.\"'\n",
    "print(message)\n"
   ]
  },
  {
   "cell_type": "code",
   "execution_count": 9,
   "id": "fcf4ebef",
   "metadata": {},
   "outputs": [
    {
     "name": "stdout",
     "output_type": "stream",
     "text": [
      "8\n",
      "8\n",
      "8\n",
      "8.0\n"
     ]
    }
   ],
   "source": [
    "##program2\n",
    "##shruti_thorle\n",
    "##date-2023-10-27\n",
    "##to perform arithmatic operations (results 8 )\n",
    "print(5 + 3)\n",
    "print(10 - 2)\n",
    "print(4 * 2) \n",
    "print(16 / 2) "
   ]
  },
  {
   "cell_type": "code",
   "execution_count": 10,
   "id": "f636ecf5",
   "metadata": {},
   "outputs": [
    {
     "name": "stdout",
     "output_type": "stream",
     "text": [
      "Alisha\n",
      "adeeba\n",
      "Nikita\n",
      "Albert\n",
      "pratiksha\n"
     ]
    }
   ],
   "source": [
    "##9th \n",
    "names = [\"Alisha\", \"adeeba\", \"Nikita\", \"Albert\", \"pratiksha\"]\n",
    "for name in names:\n",
    "    print(name)\n"
   ]
  },
  {
   "cell_type": "code",
   "execution_count": 11,
   "id": "d6098d0e",
   "metadata": {},
   "outputs": [
    {
     "name": "stdout",
     "output_type": "stream",
     "text": [
      "Hello, Alisha Good Morning\n",
      "Hello, adeeba Good Morning\n",
      "Hello, Nikita Good Morning\n",
      "Hello, Albert Good Morning\n",
      "Hello, pratiksha Good Morning\n"
     ]
    }
   ],
   "source": [
    "##10th\n",
    "names = [\"Alisha\", \"adeeba\", \"Nikita\", \"Albert\", \"pratiksha\"]\n",
    "for name in names:\n",
    "    message = \"Hello, \"+ name +\" Good Morning\"\n",
    "    print(message)\n"
   ]
  },
  {
   "cell_type": "code",
   "execution_count": 13,
   "id": "a5cd930e",
   "metadata": {},
   "outputs": [
    {
     "name": "stdout",
     "output_type": "stream",
     "text": [
      "I would like to own a  Audi\n",
      "I would like to own a  Kia\n",
      "I would like to own a  Toyota\n",
      "I would like to own a  BMW\n",
      "I would like to own a  ford\n"
     ]
    }
   ],
   "source": [
    "##11th\n",
    "cars = [\"Audi\", \"Kia\", \"Toyota\", \"BMW\", \"ford\"]\n",
    "for car in cars:\n",
    "    print(f\"I would like to own a \",car)\n",
    "\n"
   ]
  },
  {
   "cell_type": "code",
   "execution_count": null,
   "id": "d98f016a",
   "metadata": {},
   "outputs": [],
   "source": []
  }
 ],
 "metadata": {
  "kernelspec": {
   "display_name": "Python 3 (ipykernel)",
   "language": "python",
   "name": "python3"
  },
  "language_info": {
   "codemirror_mode": {
    "name": "ipython",
    "version": 3
   },
   "file_extension": ".py",
   "mimetype": "text/x-python",
   "name": "python",
   "nbconvert_exporter": "python",
   "pygments_lexer": "ipython3",
   "version": "3.11.5"
  }
 },
 "nbformat": 4,
 "nbformat_minor": 5
}
